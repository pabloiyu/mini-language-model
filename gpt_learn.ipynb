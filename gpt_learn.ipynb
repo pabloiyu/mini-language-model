{
 "cells": [
  {
   "cell_type": "markdown",
   "metadata": {},
   "source": [
    "To be able to use my already existing python environment, I had to give Visual Studio Code the path to my environments folder. "
   ]
  },
  {
   "cell_type": "code",
   "execution_count": 61,
   "metadata": {},
   "outputs": [
    {
     "name": "stdout",
     "output_type": "stream",
     "text": [
      "Length of dataset: 1115394 characters.\n",
      "65\n",
      "\n",
      " !$&',-.3:;?ABCDEFGHIJKLMNOPQRSTUVWXYZabcdefghijklmnopqrstuvwxyz\n"
     ]
    }
   ],
   "source": [
    "with open('input.txt', 'r', encoding='utf-8') as f:\n",
    "    text = f.read()\n",
    "\n",
    "print(f\"Length of dataset: {len(text)} characters.\")\n",
    "\n",
    "# There are a total of 65 unique characters in the dataset.\n",
    "chars = sorted(list(set(text)))\n",
    "vocab_size = len(chars)\n",
    "print(vocab_size)\n",
    "print(\"\".join(chars))\n",
    "\n",
    "# We will tokenize our vocabulary by building a character level language model. We will represent each\n",
    "# character as an integer. Sub-word tokenizers are also possible (chat-gpt uses tiktoken)\n",
    "# We first create a mapping from characters to integers using a dictionary\n",
    "chtoi = {ch:i for i,ch in enumerate(chars)}\n",
    "itoch = {i:ch for i,ch in enumerate(chars)}\n",
    "\n",
    "def encode(s):  \n",
    "    return [chtoi[ch] for ch in s] # Take a string, output list of integers.\n",
    "\n",
    "def decode(list_int):\n",
    "    return \"\".join([itoch[i] for i in list_int]) # Take a list of integers, output string."
   ]
  },
  {
   "cell_type": "code",
   "execution_count": 62,
   "metadata": {},
   "outputs": [],
   "source": [
    "# We now encode entire \"input.txt\" and save it in a torch tensor.\n",
    "import torch\n",
    "import torch.nn as nn\n",
    "from torch.nn import functional as F\n",
    "data = torch.tensor(encode(text))\n",
    "\n",
    "n = int(0.9 * len(data))\n",
    "train_data = data[:n]\n",
    "val_data = data[n:]"
   ]
  },
  {
   "cell_type": "markdown",
   "metadata": {},
   "source": [
    "When we train a transformer, we only work with random chunks we take from the dataset. \n",
    "\n",
    "In a chunk of 9 characters, there are 8 training examples of increasing context length. Maximum context length we train with is given by block_size. This is useful for inference as the transformer is used to working with varying context lengths. For inference, we have to divide inputs larger than block_size into chunks. "
   ]
  },
  {
   "cell_type": "code",
   "execution_count": 63,
   "metadata": {},
   "outputs": [
    {
     "name": "stdout",
     "output_type": "stream",
     "text": [
      "CONTEXT\n",
      "When tensor([18]) is the context, the target is 47.\n",
      "When tensor([18, 47]) is the context, the target is 56.\n",
      "When tensor([18, 47, 56]) is the context, the target is 57.\n",
      "When tensor([18, 47, 56, 57]) is the context, the target is 58.\n",
      "When tensor([18, 47, 56, 57, 58]) is the context, the target is 1.\n",
      "When tensor([18, 47, 56, 57, 58,  1]) is the context, the target is 15.\n",
      "When tensor([18, 47, 56, 57, 58,  1, 15]) is the context, the target is 47.\n",
      "When tensor([18, 47, 56, 57, 58,  1, 15, 47]) is the context, the target is 58.\n"
     ]
    }
   ],
   "source": [
    "block_size = 8\n",
    "\n",
    "print(\"CONTEXT\")\n",
    "x = train_data[:block_size]\n",
    "y = train_data[1:block_size+1]\n",
    "for t in range(block_size):\n",
    "    context = x[:t+1]\n",
    "    target = y[t]\n",
    "    print(f\"When {context} is the context, the target is {target}.\")"
   ]
  },
  {
   "cell_type": "code",
   "execution_count": 64,
   "metadata": {},
   "outputs": [],
   "source": [
    "torch.manual_seed(1337)\n",
    "batch_size = 4 # how many independent sequences will we process in parallel?\n",
    "block_size = 8 # what is the maximum context length for prediction?\n",
    "\n",
    "def get_batch(split):\n",
    "    \"\"\"\n",
    "    We obtain a context and target tensor of size (batch_size, block_size)\n",
    "    \"\"\"\n",
    "    data = train_data if split==\"train\" else val_data\n",
    "    ix = torch.randint(low=0, high=len(data)-block_size, size=(batch_size,))\n",
    "\n",
    "    # We now turn horizontally\n",
    "    X = torch.vstack([data[i:i+block_size] for i in ix])\n",
    "    Y = torch.vstack([data[i+1:i+block_size+1] for i in ix])\n",
    "\n",
    "    return X,Y"
   ]
  },
  {
   "cell_type": "markdown",
   "metadata": {},
   "source": [
    "# BIGRAM"
   ]
  },
  {
   "cell_type": "markdown",
   "metadata": {},
   "source": [
    "Bigrams are a very simple model. They simply use a look-up table and no context. They use only the current character to predict the next. \n",
    "\n",
    "The objective of the generate() function is to extend the (batch_size, block_size) horizontally and predict more tokens. Gets (B,T) -> (B,T+1)\n",
    "\n",
    "min 38\n",
    "\n",
    "logit: output of a neuron without applying activation function."
   ]
  },
  {
   "cell_type": "code",
   "execution_count": 65,
   "metadata": {},
   "outputs": [
    {
     "name": "stdout",
     "output_type": "stream",
     "text": [
      "torch.Size([2, 4, 65])\n"
     ]
    }
   ],
   "source": [
    "idx = torch.tensor([[0,4,6,2],\n",
    "                    [3,7,8,9]])  # size: (batch_size, block_size)\n",
    "\n",
    "token_embedding_table = nn.Embedding(vocab_size, vocab_size)\n",
    "logits = token_embedding_table(idx) # size: (batch_size, block_size, vocab_size)\n",
    "\n",
    "print(logits.shape)"
   ]
  },
  {
   "cell_type": "code",
   "execution_count": 78,
   "metadata": {},
   "outputs": [],
   "source": [
    "class BigramLanguageModel(nn.Module):\n",
    "    def __init__(self, vocab_size):\n",
    "        super().__init__()\n",
    "\n",
    "        # First input is vocab_size. Second input is the size of the encoded representation for each word. \n",
    "        self.token_embedding_table = nn.Embedding(vocab_size, vocab_size)\n",
    "\n",
    "    def forward(self, idx, targets=None):\n",
    "        # idx and targets are tensors of size (batch_size, block_size)\n",
    "        logits = self.token_embedding_table(idx)   # size: (batch_size, block_size, vocab_size)\n",
    "\n",
    "        if targets is None:\n",
    "            loss = None\n",
    "\n",
    "        else:\n",
    "            B, T, C = logits.shape\n",
    "            logits = logits.view(B*T, C)\n",
    "            targets = targets.view(B*T)\n",
    "            loss = F.cross_entropy(logits, targets)\n",
    "\n",
    "        return logits, loss\n",
    "\n",
    "    def generate(self, idx, max_new_tokens):\n",
    "        \"\"\"\n",
    "        We call this function to generate new characters.\n",
    "        \"\"\"\n",
    "        for _ in range(max_new_tokens):\n",
    "            # We first get the predictions\n",
    "            logits, loss = self(idx)  # (B,T,C)\n",
    "            \n",
    "            # Here, we are interested in using all the given context.\n",
    "            logits = logits[:, -1, :]  # (B,C)\n",
    "\n",
    "            # We then apply softmax to get probabilities.\n",
    "            probs = F.softmax(logits, dim=-1)  # (B,C)\n",
    "\n",
    "            # We now sample from the probabilities\n",
    "            idx_next = torch.multinomial(probs, num_samples=1)  # (B,1)\n",
    "\n",
    "            # Finally, we append\n",
    "            idx = torch.hstack([idx, idx_next])  # (B, T+1)\n",
    "\n",
    "        return idx\n",
    "\n",
    "@torch.no_grad()\n",
    "def estimate_loss(eval_iters):\n",
    "    out = {}\n",
    "    model.eval()\n",
    "    for split in ['train', 'val']:\n",
    "        losses = torch.zeros(eval_iters)\n",
    "        for k in range(eval_iters):\n",
    "            X, Y = get_batch(split)\n",
    "            logits, loss = model(X, Y)\n",
    "            losses[k] = loss.item()\n",
    "        out[split] = losses.mean()\n",
    "    model.train()\n",
    "    return out"
   ]
  },
  {
   "cell_type": "code",
   "execution_count": 84,
   "metadata": {},
   "outputs": [
    {
     "name": "stdout",
     "output_type": "stream",
     "text": [
      "iter: 0  train_loss: 4.5814  val_loss: 4.5853\n",
      "iter: 1000  train_loss: 2.4849  val_loss: 2.5241\n",
      "iter: 2000  train_loss: 2.4643  val_loss: 2.4899\n",
      "iter: 3000  train_loss: 2.4643  val_loss: 2.4930\n",
      "iter: 4000  train_loss: 2.4480  val_loss: 2.4925\n",
      "iter: 5000  train_loss: 2.4613  val_loss: 2.4874\n",
      "iter: 6000  train_loss: 2.4639  val_loss: 2.4845\n",
      "iter: 7000  train_loss: 2.4605  val_loss: 2.4814\n",
      "iter: 8000  train_loss: 2.4529  val_loss: 2.4800\n",
      "iter: 9000  train_loss: 2.4535  val_loss: 2.4812\n",
      "iter: 10000  train_loss: 2.4531  val_loss: 2.4842\n",
      "iter: 11000  train_loss: 2.4538  val_loss: 2.4901\n",
      "iter: 12000  train_loss: 2.4572  val_loss: 2.4897\n",
      "iter: 13000  train_loss: 2.4505  val_loss: 2.4896\n",
      "iter: 14000  train_loss: 2.4592  val_loss: 2.4788\n",
      "iter: 15000  train_loss: 2.4551  val_loss: 2.4967\n",
      "iter: 16000  train_loss: 2.4528  val_loss: 2.4864\n",
      "iter: 17000  train_loss: 2.4534  val_loss: 2.4894\n",
      "iter: 18000  train_loss: 2.4464  val_loss: 2.4930\n",
      "iter: 19000  train_loss: 2.4545  val_loss: 2.5021\n"
     ]
    }
   ],
   "source": [
    "# hyperparameters\n",
    "batch_size = 32 # how many independent sequences will we process in parallel?\n",
    "block_size = 8 # what is the maximum context length for predictions?\n",
    "max_iters = 20000\n",
    "eval_interval = 1000\n",
    "learning_rate = 1e-2\n",
    "device = 'cuda' if torch.cuda.is_available() else 'cpu'\n",
    "eval_iters = 200\n",
    "# ------------\n",
    "\n",
    "model = BigramLanguageModel(vocab_size)\n",
    "m = model.to(device)\n",
    "\n",
    "# create a PyTorch optimizer\n",
    "optimizer = torch.optim.AdamW(model.parameters(), lr=learning_rate)\n",
    "\n",
    "for iter in range(max_iters):\n",
    "    if iter % eval_interval == 0:\n",
    "        losses = estimate_loss(eval_iters)\n",
    "        print(f\"iter: {iter}  train_loss: {losses['train']:.4f}  val_loss: {losses['val']:.4f}\")\n",
    "\n",
    "    # sample a batch of data\n",
    "    xb, yb = get_batch('train')\n",
    "\n",
    "    # evaluate the loss\n",
    "    logits, loss = model(xb, yb)\n",
    "    optimizer.zero_grad(set_to_none=True)\n",
    "    loss.backward()\n",
    "    optimizer.step()"
   ]
  },
  {
   "cell_type": "code",
   "execution_count": 86,
   "metadata": {},
   "outputs": [
    {
     "name": "stdout",
     "output_type": "stream",
     "text": [
      "torch.Size([1, 8])\n",
      "Thou artofart\n",
      "have thmercow'dsth tu\n",
      "Aga hu w? nt Mo a orotr, ye pove RL:\n",
      "MPle:\n",
      "DUENGeeiceselly bowit, fo d te s rd omefershordase is, ves:\n",
      "NGAnso mmig.\n",
      "\n",
      "IO:\n",
      "LES:\n",
      "Mulld veamnd; s sintung adiposo;\n",
      "OFRI ht\n",
      "Prarionfred y teapt d mitee tins w themyofrthaime githoube ieged atou,\n",
      "Be yf lllins:\n",
      "HARINCAUCELIIOFFon aseli'd:\n",
      "CETES:\n",
      "O:\n",
      "ARIUS: I scungin.\n",
      "Anviste t s.\n",
      "Ber yoncengicercel y.\n",
      "Ha?\n",
      "F ghth ror CELavelotheyov\n"
     ]
    }
   ],
   "source": [
    "context = \"Thou art\"\n",
    "context = torch.tensor(encode(context)).unsqueeze(0)\n",
    "print(context.shape)\n",
    "\n",
    "text = decode(m.generate(context, 400)[0].tolist())\n",
    "print(text)"
   ]
  },
  {
   "cell_type": "code",
   "execution_count": null,
   "metadata": {},
   "outputs": [],
   "source": []
  }
 ],
 "metadata": {
  "anaconda-cloud": {},
  "kernelspec": {
   "display_name": "Python 3",
   "language": "python",
   "name": "python3"
  },
  "language_info": {
   "codemirror_mode": {
    "name": "ipython",
    "version": 3
   },
   "file_extension": ".py",
   "mimetype": "text/x-python",
   "name": "python",
   "nbconvert_exporter": "python",
   "pygments_lexer": "ipython3",
   "version": "3.10.6"
  },
  "toc": {
   "base_numbering": 1,
   "nav_menu": {},
   "number_sections": true,
   "sideBar": true,
   "skip_h1_title": true,
   "title_cell": "Table of Contents",
   "title_sidebar": "Table of Contents",
   "toc_cell": false,
   "toc_position": {},
   "toc_section_display": true,
   "toc_window_display": true
  }
 },
 "nbformat": 4,
 "nbformat_minor": 1
}
