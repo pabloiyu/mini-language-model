{
 "cells": [
  {
   "cell_type": "markdown",
   "metadata": {},
   "source": [
    "To be able to use my already existing python environment, I had to give Visual Studio Code the path to my environments folder. "
   ]
  },
  {
   "cell_type": "code",
   "execution_count": 2,
   "metadata": {},
   "outputs": [
    {
     "name": "stdout",
     "output_type": "stream",
     "text": [
      "Length of dataset: 1115394 characters.\n",
      "65\n",
      "\n",
      " !$&',-.3:;?ABCDEFGHIJKLMNOPQRSTUVWXYZabcdefghijklmnopqrstuvwxyz\n"
     ]
    }
   ],
   "source": [
    "with open('input.txt', 'r', encoding='utf-8') as f:\n",
    "    text = f.read()\n",
    "\n",
    "print(f\"Length of dataset: {len(text)} characters.\")\n",
    "\n",
    "# There are a total of 65 unique characters in the dataset.\n",
    "chars = sorted(list(set(text)))\n",
    "print(len(chars))\n",
    "print(\"\".join(chars))\n",
    "\n",
    "# We will tokenize our vocabulary by building a character level language model. We will represent each\n",
    "# character as an integer. Sub-word tokenizers are also possible (chat-gpt uses tiktoken)\n",
    "# We first create a mapping from characters to integers using a dictionary\n",
    "chtoi = {ch:i for i,ch in enumerate(chars)}\n",
    "itoch = {i:ch for i,ch in enumerate(chars)}\n",
    "\n",
    "def encode(s):  \n",
    "    return [chtoi[ch] for ch in s] # Take a string, output list of integers.\n",
    "\n",
    "def decode(list_int):\n",
    "    return \"\".join([itoch[i] for i in list_int]) # Take a list of integers, output string."
   ]
  },
  {
   "cell_type": "code",
   "execution_count": 3,
   "metadata": {},
   "outputs": [],
   "source": [
    "# We now encode entire \"input.txt\" and save it in a torch tensor.\n",
    "import torch\n",
    "data = torch.tensor(encode(text))\n",
    "\n",
    "n = int(0.9 * len(data))\n",
    "train_data = data[:n]\n",
    "val_data = data[n:]"
   ]
  },
  {
   "cell_type": "markdown",
   "metadata": {},
   "source": [
    "When we train a transformer, we only work with random chunks we take from the dataset. \n",
    "\n",
    "In a chunk of 9 characters, there are 8 training examples of increasing context length. Maximum context length we train with is given by block_size. This is useful for inference as the transformer is used to working with varying context lengths. For inference, we have to divide inputs larger than block_size into chunks. "
   ]
  },
  {
   "cell_type": "code",
   "execution_count": 4,
   "metadata": {},
   "outputs": [
    {
     "name": "stdout",
     "output_type": "stream",
     "text": [
      "CONTEXT\n",
      "When tensor([18]) is the context, the target is 47.\n",
      "When tensor([18, 47]) is the context, the target is 56.\n",
      "When tensor([18, 47, 56]) is the context, the target is 57.\n",
      "When tensor([18, 47, 56, 57]) is the context, the target is 58.\n",
      "When tensor([18, 47, 56, 57, 58]) is the context, the target is 1.\n",
      "When tensor([18, 47, 56, 57, 58,  1]) is the context, the target is 15.\n",
      "When tensor([18, 47, 56, 57, 58,  1, 15]) is the context, the target is 47.\n",
      "When tensor([18, 47, 56, 57, 58,  1, 15, 47]) is the context, the target is 58.\n"
     ]
    }
   ],
   "source": [
    "block_size = 8\n",
    "\n",
    "print(\"CONTEXT\")\n",
    "x = train_data[:block_size]\n",
    "y = train_data[1:block_size+1]\n",
    "for t in range(block_size):\n",
    "    context = x[:t+1]\n",
    "    target = y[t]\n",
    "    print(f\"When {context} is the context, the target is {target}.\")"
   ]
  },
  {
   "cell_type": "code",
   "execution_count": 5,
   "metadata": {},
   "outputs": [],
   "source": [
    "torch.manual_seed(1337)\n",
    "batch_size = 4 # how many independent sequences will we process in parallel?\n",
    "block_size = 8 # what is the maximum context length for prediction?\n",
    "\n",
    "def get_batch(split):\n",
    "    \"\"\"\n",
    "    We obtain a context and target tensor of size (batch_size, block_size)\n",
    "    \"\"\"\n",
    "    data = train_data if split==\"train\" else val_data\n",
    "    ix = torch.rand_int(low=0, high=len(data)-block_size, size=batch_size)\n",
    "\n",
    "    # We now turn horizontally\n",
    "    X = torch.hstack([data[i:i+block_size] for i in ix])\n",
    "    Y = torch.hstack([data[i+1:i+block_size+1] for i in ix])\n",
    "\n",
    "    return X,Y"
   ]
  },
  {
   "cell_type": "markdown",
   "metadata": {},
   "source": [
    "# BIGRAM"
   ]
  },
  {
   "cell_type": "markdown",
   "metadata": {},
   "source": [
    "Bigrams are a very simple model. They simply use a look-up table and no context. They use only the current character to predicth the next. \n",
    "\n",
    "The objective of the generate() function is to extend the (batch_size, block_size) horizontally and predict more tokens. Gets (B,T) -> (B,T+1)\n",
    "\n",
    "min 38"
   ]
  },
  {
   "cell_type": "code",
   "execution_count": null,
   "metadata": {},
   "outputs": [],
   "source": []
  },
  {
   "cell_type": "code",
   "execution_count": null,
   "metadata": {},
   "outputs": [],
   "source": []
  }
 ],
 "metadata": {
  "anaconda-cloud": {},
  "kernelspec": {
   "display_name": "Python 3",
   "language": "python",
   "name": "python3"
  },
  "language_info": {
   "codemirror_mode": {
    "name": "ipython",
    "version": 3
   },
   "file_extension": ".py",
   "mimetype": "text/x-python",
   "name": "python",
   "nbconvert_exporter": "python",
   "pygments_lexer": "ipython3",
   "version": "3.10.6"
  },
  "toc": {
   "base_numbering": 1,
   "nav_menu": {},
   "number_sections": true,
   "sideBar": true,
   "skip_h1_title": true,
   "title_cell": "Table of Contents",
   "title_sidebar": "Table of Contents",
   "toc_cell": false,
   "toc_position": {},
   "toc_section_display": true,
   "toc_window_display": true
  }
 },
 "nbformat": 4,
 "nbformat_minor": 1
}
