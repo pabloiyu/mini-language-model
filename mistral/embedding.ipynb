{
 "cells": [
  {
   "cell_type": "code",
   "execution_count": 74,
   "metadata": {},
   "outputs": [
    {
     "name": "stdout",
     "output_type": "stream",
     "text": [
      "AlbertModel(\n",
      "  (embeddings): AlbertEmbeddings(\n",
      "    (word_embeddings): Embedding(30000, 128, padding_idx=0)\n",
      "    (position_embeddings): Embedding(512, 128)\n",
      "    (token_type_embeddings): Embedding(2, 128)\n",
      "    (LayerNorm): LayerNorm((128,), eps=1e-12, elementwise_affine=True)\n",
      "    (dropout): Dropout(p=0, inplace=False)\n",
      "  )\n",
      "  (encoder): AlbertTransformer(\n",
      "    (embedding_hidden_mapping_in): Linear(in_features=128, out_features=768, bias=True)\n",
      "    (albert_layer_groups): ModuleList(\n",
      "      (0): AlbertLayerGroup(\n",
      "        (albert_layers): ModuleList(\n",
      "          (0): AlbertLayer(\n",
      "            (full_layer_layer_norm): LayerNorm((768,), eps=1e-12, elementwise_affine=True)\n",
      "            (attention): AlbertAttention(\n",
      "              (query): Linear(in_features=768, out_features=768, bias=True)\n",
      "              (key): Linear(in_features=768, out_features=768, bias=True)\n",
      "              (value): Linear(in_features=768, out_features=768, bias=True)\n",
      "              (attention_dropout): Dropout(p=0, inplace=False)\n",
      "              (output_dropout): Dropout(p=0, inplace=False)\n",
      "              (dense): Linear(in_features=768, out_features=768, bias=True)\n",
      "              (LayerNorm): LayerNorm((768,), eps=1e-12, elementwise_affine=True)\n",
      "            )\n",
      "            (ffn): Linear(in_features=768, out_features=3072, bias=True)\n",
      "            (ffn_output): Linear(in_features=3072, out_features=768, bias=True)\n",
      "            (activation): NewGELUActivation()\n",
      "            (dropout): Dropout(p=0, inplace=False)\n",
      "          )\n",
      "        )\n",
      "      )\n",
      "    )\n",
      "  )\n",
      "  (pooler): Linear(in_features=768, out_features=768, bias=True)\n",
      "  (pooler_activation): Tanh()\n",
      ")\n"
     ]
    }
   ],
   "source": [
    "import torch\n",
    "from transformers import AlbertModel, AlbertTokenizer\n",
    "\n",
    "device = \"cuda\" # the device to load the model onto\n",
    "\n",
    "tokenizer = AlbertTokenizer.from_pretrained('albert-base-v2')\n",
    "model = AlbertModel.from_pretrained(\"albert-base-v2\").to(device)\n",
    "\n",
    "text = \"Hello\"\n",
    "\n",
    "def get_embedding(text):\n",
    "    encoded_input = tokenizer(text, return_tensors='pt').to(device)\n",
    "    output = model(**encoded_input)\n",
    "    output = output.last_hidden_state.squeeze(0)\n",
    "    output = output[0]#torch.mean(output, dim=0)\n",
    "    return output\n",
    "\n",
    "print(model)"
   ]
  },
  {
   "cell_type": "code",
   "execution_count": 82,
   "metadata": {},
   "outputs": [
    {
     "name": "stdout",
     "output_type": "stream",
     "text": [
      "tensor(0.9995, device='cuda:0', grad_fn=<DivBackward0>)\n"
     ]
    }
   ],
   "source": [
    "text1 = \"Sherlock Holmes is always with Watson\"\n",
    "text2 = \"By the art of deduction, we can conclude that he is the murderer.\"\n",
    "text2 = \"Sherlock Holmes is always with Watson\"\n",
    "\n",
    "def cosine_similarity(v1, v2):\n",
    "    v1 = get_embedding(v1)\n",
    "    v2 = get_embedding(v2)\n",
    "\n",
    "    norm_v1 = torch.norm(v1)\n",
    "    norm_v2 = torch.norm(v2)\n",
    "    \n",
    "    return v1 @ v2 / (norm_v1 * norm_v2)\n",
    "\n",
    "print(cosine_similarity(text1, text2))"
   ]
  },
  {
   "cell_type": "code",
   "execution_count": null,
   "metadata": {},
   "outputs": [],
   "source": []
  }
 ],
 "metadata": {
  "kernelspec": {
   "display_name": "rag",
   "language": "python",
   "name": "python3"
  },
  "language_info": {
   "codemirror_mode": {
    "name": "ipython",
    "version": 3
   },
   "file_extension": ".py",
   "mimetype": "text/x-python",
   "name": "python",
   "nbconvert_exporter": "python",
   "pygments_lexer": "ipython3",
   "version": "3.11.7"
  }
 },
 "nbformat": 4,
 "nbformat_minor": 2
}
